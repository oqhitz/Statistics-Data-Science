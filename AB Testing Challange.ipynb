{
 "cells": [
  {
   "cell_type": "markdown",
   "id": "different-shepherd",
   "metadata": {},
   "source": [
    "***\n",
    "LAB CHALLANGE STATISTICS FOR DATA SCIENCE\n",
    "\n",
    "SHIFT ACADEMY DATA SCIENCE BOOTCAMP BATCH 9\n",
    "\n",
    "by Prayuda Satya Graha\n",
    "***"
   ]
  },
  {
   "cell_type": "code",
   "execution_count": 33,
   "id": "described-rally",
   "metadata": {},
   "outputs": [],
   "source": [
    "import pandas as pd\n",
    "import numpy as np\n",
    "import matplotlib.pyplot as plt\n",
    "import seaborn as sns\n",
    "from scipy import stats as st\n",
    "\n",
    "%matplotlib inline"
   ]
  },
  {
   "cell_type": "markdown",
   "id": "intelligent-yesterday",
   "metadata": {},
   "source": [
    "LOADING DATASET"
   ]
  },
  {
   "cell_type": "code",
   "execution_count": 6,
   "id": "charitable-techno",
   "metadata": {},
   "outputs": [
    {
     "data": {
      "text/html": [
       "<div>\n",
       "<style scoped>\n",
       "    .dataframe tbody tr th:only-of-type {\n",
       "        vertical-align: middle;\n",
       "    }\n",
       "\n",
       "    .dataframe tbody tr th {\n",
       "        vertical-align: top;\n",
       "    }\n",
       "\n",
       "    .dataframe thead th {\n",
       "        text-align: right;\n",
       "    }\n",
       "</style>\n",
       "<table border=\"1\" class=\"dataframe\">\n",
       "  <thead>\n",
       "    <tr style=\"text-align: right;\">\n",
       "      <th></th>\n",
       "      <th>Day</th>\n",
       "      <th>Conversion_A</th>\n",
       "      <th>Conversion_B</th>\n",
       "    </tr>\n",
       "  </thead>\n",
       "  <tbody>\n",
       "    <tr>\n",
       "      <th>0</th>\n",
       "      <td>1</td>\n",
       "      <td>0.15</td>\n",
       "      <td>0.19</td>\n",
       "    </tr>\n",
       "    <tr>\n",
       "      <th>1</th>\n",
       "      <td>2</td>\n",
       "      <td>0.12</td>\n",
       "      <td>0.20</td>\n",
       "    </tr>\n",
       "    <tr>\n",
       "      <th>2</th>\n",
       "      <td>3</td>\n",
       "      <td>0.18</td>\n",
       "      <td>0.18</td>\n",
       "    </tr>\n",
       "    <tr>\n",
       "      <th>3</th>\n",
       "      <td>4</td>\n",
       "      <td>0.19</td>\n",
       "      <td>0.22</td>\n",
       "    </tr>\n",
       "    <tr>\n",
       "      <th>4</th>\n",
       "      <td>5</td>\n",
       "      <td>0.17</td>\n",
       "      <td>0.19</td>\n",
       "    </tr>\n",
       "    <tr>\n",
       "      <th>5</th>\n",
       "      <td>6</td>\n",
       "      <td>0.13</td>\n",
       "      <td>0.17</td>\n",
       "    </tr>\n",
       "    <tr>\n",
       "      <th>6</th>\n",
       "      <td>7</td>\n",
       "      <td>0.14</td>\n",
       "      <td>0.18</td>\n",
       "    </tr>\n",
       "    <tr>\n",
       "      <th>7</th>\n",
       "      <td>8</td>\n",
       "      <td>0.23</td>\n",
       "      <td>0.20</td>\n",
       "    </tr>\n",
       "    <tr>\n",
       "      <th>8</th>\n",
       "      <td>9</td>\n",
       "      <td>0.11</td>\n",
       "      <td>0.17</td>\n",
       "    </tr>\n",
       "    <tr>\n",
       "      <th>9</th>\n",
       "      <td>10</td>\n",
       "      <td>0.15</td>\n",
       "      <td>0.22</td>\n",
       "    </tr>\n",
       "    <tr>\n",
       "      <th>10</th>\n",
       "      <td>11</td>\n",
       "      <td>0.18</td>\n",
       "      <td>0.17</td>\n",
       "    </tr>\n",
       "    <tr>\n",
       "      <th>11</th>\n",
       "      <td>12</td>\n",
       "      <td>0.19</td>\n",
       "      <td>0.25</td>\n",
       "    </tr>\n",
       "    <tr>\n",
       "      <th>12</th>\n",
       "      <td>13</td>\n",
       "      <td>0.16</td>\n",
       "      <td>0.15</td>\n",
       "    </tr>\n",
       "    <tr>\n",
       "      <th>13</th>\n",
       "      <td>14</td>\n",
       "      <td>0.12</td>\n",
       "      <td>0.27</td>\n",
       "    </tr>\n",
       "    <tr>\n",
       "      <th>14</th>\n",
       "      <td>15</td>\n",
       "      <td>0.18</td>\n",
       "      <td>0.19</td>\n",
       "    </tr>\n",
       "    <tr>\n",
       "      <th>15</th>\n",
       "      <td>16</td>\n",
       "      <td>0.21</td>\n",
       "      <td>0.20</td>\n",
       "    </tr>\n",
       "    <tr>\n",
       "      <th>16</th>\n",
       "      <td>17</td>\n",
       "      <td>0.10</td>\n",
       "      <td>0.17</td>\n",
       "    </tr>\n",
       "    <tr>\n",
       "      <th>17</th>\n",
       "      <td>18</td>\n",
       "      <td>0.18</td>\n",
       "      <td>0.22</td>\n",
       "    </tr>\n",
       "    <tr>\n",
       "      <th>18</th>\n",
       "      <td>19</td>\n",
       "      <td>0.15</td>\n",
       "      <td>0.18</td>\n",
       "    </tr>\n",
       "    <tr>\n",
       "      <th>19</th>\n",
       "      <td>20</td>\n",
       "      <td>0.12</td>\n",
       "      <td>0.19</td>\n",
       "    </tr>\n",
       "    <tr>\n",
       "      <th>20</th>\n",
       "      <td>21</td>\n",
       "      <td>0.12</td>\n",
       "      <td>0.18</td>\n",
       "    </tr>\n",
       "    <tr>\n",
       "      <th>21</th>\n",
       "      <td>22</td>\n",
       "      <td>0.18</td>\n",
       "      <td>0.19</td>\n",
       "    </tr>\n",
       "    <tr>\n",
       "      <th>22</th>\n",
       "      <td>23</td>\n",
       "      <td>0.21</td>\n",
       "      <td>0.23</td>\n",
       "    </tr>\n",
       "    <tr>\n",
       "      <th>23</th>\n",
       "      <td>24</td>\n",
       "      <td>0.11</td>\n",
       "      <td>0.15</td>\n",
       "    </tr>\n",
       "    <tr>\n",
       "      <th>24</th>\n",
       "      <td>25</td>\n",
       "      <td>0.14</td>\n",
       "      <td>0.19</td>\n",
       "    </tr>\n",
       "    <tr>\n",
       "      <th>25</th>\n",
       "      <td>26</td>\n",
       "      <td>0.15</td>\n",
       "      <td>0.17</td>\n",
       "    </tr>\n",
       "    <tr>\n",
       "      <th>26</th>\n",
       "      <td>27</td>\n",
       "      <td>0.19</td>\n",
       "      <td>0.18</td>\n",
       "    </tr>\n",
       "    <tr>\n",
       "      <th>27</th>\n",
       "      <td>28</td>\n",
       "      <td>0.21</td>\n",
       "      <td>0.23</td>\n",
       "    </tr>\n",
       "    <tr>\n",
       "      <th>28</th>\n",
       "      <td>29</td>\n",
       "      <td>0.17</td>\n",
       "      <td>0.18</td>\n",
       "    </tr>\n",
       "    <tr>\n",
       "      <th>29</th>\n",
       "      <td>30</td>\n",
       "      <td>0.22</td>\n",
       "      <td>0.19</td>\n",
       "    </tr>\n",
       "  </tbody>\n",
       "</table>\n",
       "</div>"
      ],
      "text/plain": [
       "    Day   Conversion_A  Conversion_B\n",
       "0      1          0.15          0.19\n",
       "1      2          0.12          0.20\n",
       "2      3          0.18          0.18\n",
       "3      4          0.19          0.22\n",
       "4      5          0.17          0.19\n",
       "5      6          0.13          0.17\n",
       "6      7          0.14          0.18\n",
       "7      8          0.23          0.20\n",
       "8      9          0.11          0.17\n",
       "9     10          0.15          0.22\n",
       "10    11          0.18          0.17\n",
       "11    12          0.19          0.25\n",
       "12    13          0.16          0.15\n",
       "13    14          0.12          0.27\n",
       "14    15          0.18          0.19\n",
       "15    16          0.21          0.20\n",
       "16    17          0.10          0.17\n",
       "17    18          0.18          0.22\n",
       "18    19          0.15          0.18\n",
       "19    20          0.12          0.19\n",
       "20    21          0.12          0.18\n",
       "21    22          0.18          0.19\n",
       "22    23          0.21          0.23\n",
       "23    24          0.11          0.15\n",
       "24    25          0.14          0.19\n",
       "25    26          0.15          0.17\n",
       "26    27          0.19          0.18\n",
       "27    28          0.21          0.23\n",
       "28    29          0.17          0.18\n",
       "29    30          0.22          0.19"
      ]
     },
     "execution_count": 6,
     "metadata": {},
     "output_type": "execute_result"
    }
   ],
   "source": [
    "df = pd.read_csv('lab.csv')\n",
    "df"
   ]
  },
  {
   "cell_type": "markdown",
   "id": "suitable-gentleman",
   "metadata": {},
   "source": [
    "DATASET INFO"
   ]
  },
  {
   "cell_type": "code",
   "execution_count": 8,
   "id": "orange-playback",
   "metadata": {},
   "outputs": [
    {
     "name": "stdout",
     "output_type": "stream",
     "text": [
      "<class 'pandas.core.frame.DataFrame'>\n",
      "RangeIndex: 30 entries, 0 to 29\n",
      "Data columns (total 3 columns):\n",
      " #   Column        Non-Null Count  Dtype  \n",
      "---  ------        --------------  -----  \n",
      " 0   Day           30 non-null     int64  \n",
      " 1   Conversion_A  30 non-null     float64\n",
      " 2   Conversion_B  30 non-null     float64\n",
      "dtypes: float64(2), int64(1)\n",
      "memory usage: 848.0 bytes\n"
     ]
    }
   ],
   "source": [
    "df.info()"
   ]
  },
  {
   "cell_type": "markdown",
   "id": "difficult-canon",
   "metadata": {},
   "source": [
    "***\n",
    "Lets check if those conversions have outliers or not"
   ]
  },
  {
   "cell_type": "code",
   "execution_count": 20,
   "id": "impaired-appendix",
   "metadata": {},
   "outputs": [
    {
     "name": "stderr",
     "output_type": "stream",
     "text": [
      "C:\\Users\\LENOVO\\anaconda3\\lib\\site-packages\\seaborn\\_decorators.py:36: FutureWarning: Pass the following variable as a keyword arg: x. From version 0.12, the only valid positional argument will be `data`, and passing other arguments without an explicit keyword will result in an error or misinterpretation.\n",
      "  warnings.warn(\n"
     ]
    },
    {
     "data": {
      "text/plain": [
       "Text(0.5, 1.0, 'Box Plot - Conversion A')"
      ]
     },
     "execution_count": 20,
     "metadata": {},
     "output_type": "execute_result"
    },
    {
     "data": {
      "image/png": "[encoded data removed]",
      "text/plain": [
       "<Figure size 432x288 with 1 Axes>"
      ]
     },
     "metadata": {
      "needs_background": "light"
     },
     "output_type": "display_data"
    }
   ],
   "source": [
    "sns.boxplot(df['Conversion_A'], palette = 'Set2')\n",
    "plt.title('Box Plot - Conversion A', fontweight = 'bold', color = 'blue', fontsize = 15)"
   ]
  },
  {
   "cell_type": "code",
   "execution_count": 21,
   "id": "constant-promotion",
   "metadata": {},
   "outputs": [
    {
     "name": "stderr",
     "output_type": "stream",
     "text": [
      "C:\\Users\\LENOVO\\anaconda3\\lib\\site-packages\\seaborn\\_decorators.py:36: FutureWarning: Pass the following variable as a keyword arg: x. From version 0.12, the only valid positional argument will be `data`, and passing other arguments without an explicit keyword will result in an error or misinterpretation.\n",
      "  warnings.warn(\n"
     ]
    },
    {
     "data": {
      "text/plain": [
       "Text(0.5, 1.0, 'Box Plot - Conversion B')"
      ]
     },
     "execution_count": 21,
     "metadata": {},
     "output_type": "execute_result"
    },
    {
     "data": {
      "image/png": "[encoded data removed]",
      "text/plain": [
       "<Figure size 432x288 with 1 Axes>"
      ]
     },
     "metadata": {
      "needs_background": "light"
     },
     "output_type": "display_data"
    }
   ],
   "source": [
    "sns.boxplot(df['Conversion_B'], palette = 'Set2')\n",
    "plt.title('Box Plot - Conversion B', fontweight = 'bold', color = 'blue', fontsize = 15)"
   ]
  },
  {
   "cell_type": "markdown",
   "id": "dense-botswana",
   "metadata": {},
   "source": [
    "Result: Conversion B has outliers, and Conversion A doesn't"
   ]
  },
  {
   "cell_type": "markdown",
   "id": "dominant-fossil",
   "metadata": {},
   "source": [
    "The Measure of Central Tendency"
   ]
  },
  {
   "cell_type": "markdown",
   "id": "large-wings",
   "metadata": {},
   "source": [
    "Conversion A"
   ]
  },
  {
   "cell_type": "code",
   "execution_count": 23,
   "id": "directed-faculty",
   "metadata": {},
   "outputs": [
    {
     "name": "stdout",
     "output_type": "stream",
     "text": [
      "0.16200000000000003\n",
      "0.165\n",
      "0.18\n"
     ]
    }
   ],
   "source": [
    "print(df['Conversion_A'].mean())\n",
    "print(df['Conversion_A'].median())\n",
    "print(df['Conversion_A'].mode()[0])"
   ]
  },
  {
   "cell_type": "markdown",
   "id": "governmental-airplane",
   "metadata": {},
   "source": [
    "Conversion B"
   ]
  },
  {
   "cell_type": "code",
   "execution_count": 25,
   "id": "wired-printing",
   "metadata": {},
   "outputs": [
    {
     "name": "stdout",
     "output_type": "stream",
     "text": [
      "0.19333333333333338\n",
      "0.19\n",
      "0.19\n"
     ]
    }
   ],
   "source": [
    "print(df['Conversion_B'].mean())\n",
    "print(df['Conversion_B'].median())\n",
    "print(df['Conversion_B'].mode()[0])"
   ]
  },
  {
   "cell_type": "markdown",
   "id": "sublime-column",
   "metadata": {},
   "source": [
    "Since mean and median of both variables has close value, we can take conclusion that both Conversion A and B has **normal distribution**"
   ]
  },
  {
   "cell_type": "code",
   "execution_count": 29,
   "id": "jewish-destination",
   "metadata": {},
   "outputs": [
    {
     "data": {
      "text/plain": [
       "(0.118, 0.2)"
      ]
     },
     "execution_count": 29,
     "metadata": {},
     "output_type": "execute_result"
    },
    {
     "data": {
      "image/png": "[encoded data removed]",
      "text/plain": [
       "<Figure size 432x288 with 1 Axes>"
      ]
     },
     "metadata": {
      "needs_background": "light"
     },
     "output_type": "display_data"
    }
   ],
   "source": [
    "x = ['Conversion A','conversion_B']\n",
    "value = [df['Conversion_A'].mean(),df['Conversion_B'].mean()]\n",
    "plt.bar(x,value)\n",
    "\n",
    "plt.ylim(0.118,0.2)"
   ]
  },
  {
   "cell_type": "markdown",
   "id": "combined-infrastructure",
   "metadata": {},
   "source": [
    "from the bar chart, we can see that the average of conversion rate between Bulletin A and Bulletin B. Bulletin B has better conversion than bulletin A.."
   ]
  },
  {
   "cell_type": "markdown",
   "id": "maritime-combining",
   "metadata": {},
   "source": [
    "**HYPOTHESIS TESTING**"
   ]
  },
  {
   "cell_type": "code",
   "execution_count": 40,
   "id": "bibliographic-prince",
   "metadata": {},
   "outputs": [],
   "source": [
    "Bulletin_A = np.array(df['Conversion_A'])\n",
    "Bulletin_B = np.array(df['Conversion_B'])\n"
   ]
  },
  {
   "cell_type": "markdown",
   "id": "solid-supervision",
   "metadata": {},
   "source": [
    "HO = Bulletin B conversion rate <= Bulletin A conversion rate\n",
    "\n",
    "H1 = Bulletin B conversion rate > Bulletin A conversion rate"
   ]
  },
  {
   "cell_type": "code",
   "execution_count": 44,
   "id": "recent-speaking",
   "metadata": {},
   "outputs": [
    {
     "name": "stdout",
     "output_type": "stream",
     "text": [
      "3.78736793091929\n",
      "0.00038453573945864804\n"
     ]
    }
   ],
   "source": [
    "stats, pvalue = st.ttest_ind(Bulletin_B, Bulletin_A, equal_var = False)\n",
    "print(stats)\n",
    "print(pvalue)"
   ]
  },
  {
   "cell_type": "code",
   "execution_count": 43,
   "id": "correct-herald",
   "metadata": {},
   "outputs": [
    {
     "name": "stdout",
     "output_type": "stream",
     "text": [
      "P-Value : 0.00038453573945864804\n",
      "Sufficient to reject H0\n"
     ]
    }
   ],
   "source": [
    "print('P-Value : '+ str(pvalue))\n",
    "if pvalue >= 0.05:\n",
    "    print('Insufficient to reject H0')\n",
    "else :\n",
    "    print('Sufficient to reject H0')"
   ]
  }
 ],
 "metadata": {
  "kernelspec": {
   "display_name": "Python 3",
   "language": "python",
   "name": "python3"
  },
  "language_info": {
   "codemirror_mode": {
    "name": "ipython",
    "version": 3
   },
   "file_extension": ".py",
   "mimetype": "text/x-python",
   "name": "python",
   "nbconvert_exporter": "python",
   "pygments_lexer": "ipython3",
   "version": "3.8.5"
  }
 },
 "nbformat": 4,
 "nbformat_minor": 5
}
